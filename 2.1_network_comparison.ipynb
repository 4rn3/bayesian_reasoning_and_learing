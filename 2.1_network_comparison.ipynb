{
 "cells": [
  {
   "cell_type": "code",
   "execution_count": null,
   "metadata": {},
   "outputs": [],
   "source": [
    "import numpy as np\n",
    "import pandas as pd\n",
    "import matplotlib.pyplot as plt\n",
    "import seaborn as sns\n",
    "\n",
    "import pyAgrum as gum\n",
    "import pyAgrum as skbn\n",
    "import pyAgrum.lib.bn2graph as gnb2\n",
    "import pyAgrum.lib.notebook as gnb\n",
    "import pyAgrum.lib.image as gimg"
   ]
  },
  {
   "cell_type": "markdown",
   "metadata": {},
   "source": [
    "## Data\n",
    "Preprocessed dataset from Assignment_1.ipynb"
   ]
  },
  {
   "cell_type": "code",
   "execution_count": null,
   "metadata": {},
   "outputs": [],
   "source": [
    "data = pd.read_csv('./data/processed_data.csv')\n",
    "data.drop('Unnamed: 0', axis=1, inplace=True)\n",
    "data.rename(columns={\"cloud coverage\":\"cloud_coverage\"}, inplace=True)\n",
    "data.rain = data.rain.apply(lambda x: x.replace(\" \", \"_\"))\n",
    "print(data.shape)\n",
    "data.head()"
   ]
  },
  {
   "cell_type": "code",
   "execution_count": null,
   "metadata": {},
   "outputs": [],
   "source": [
    "assignment_1 = gum.BayesNet(\"Precipitation Network\")\n",
    "\n",
    "assignment_1.add(gum.LabelizedVariable(\"season\", \"season\", [\"Spring\", \"Summer\", \"Autumn\", \"Winter\"]))\n",
    "assignment_1.add(gum.LabelizedVariable(\"cloud_coverage\", \"cloud_coverage\", [\"low\", \"high\"]))\n",
    "assignment_1.add(gum.LabelizedVariable(\"humidity\", \"humidity\", [\"low\", \"medium\", \"high\"]))\n",
    "assignment_1.add(gum.LabelizedVariable(\"pressure\", \"pressure\", [\"low\", \"high\"]))\n",
    "assignment_1.add(gum.LabelizedVariable(\"temp\", \"temp\", [\"low\", \"high\"]))\n",
    "assignment_1.add(gum.LabelizedVariable(\"rain\", \"rain\", [\"no_rain\", \"rain\"]))\n",
    "\n",
    "assignment_1.addArc(\"season\",\"temp\")\n",
    "assignment_1.addArcs([(\"temp\",\"humidity\"),(\"temp\",\"pressure\")])\n",
    "assignment_1.addArcs([(\"humidity\",\"cloud_coverage\"),(\"humidity\",\"rain\")])\n",
    "assignment_1.addArc(\"cloud_coverage\",\"rain\")\n",
    "assignment_1.addArc(\"pressure\",\"rain\")\n",
    "\n",
    "assignment_1"
   ]
  },
  {
   "cell_type": "code",
   "execution_count": null,
   "metadata": {},
   "outputs": [],
   "source": [
    "bn = gum.BayesNet(\"Precipitation Network\")\n",
    "bn.add(gum.LabelizedVariable(\"season\", \"season\", [\"Spring\", \"Summer\", \"Autumn\", \"Winter\"]))\n",
    "bn.add(gum.LabelizedVariable(\"cloud_coverage\", \"cloud_coverage\", [\"low\", \"high\"]))\n",
    "bn.add(gum.LabelizedVariable(\"humidity\", \"humidity\", [\"low\", \"medium\", \"high\"]))\n",
    "bn.add(gum.LabelizedVariable(\"pressure\", \"pressure\", [\"low\", \"high\"]))\n",
    "bn.add(gum.LabelizedVariable(\"temp\", \"temp\", [\"low\", \"high\"]))\n",
    "bn.add(gum.LabelizedVariable(\"rain\", \"rain\", [\"no_rain\", \"rain\"]))\n",
    "gimg.export(bn, \"./images/tempalte.png\")\n",
    "\n",
    "bn"
   ]
  },
  {
   "cell_type": "markdown",
   "metadata": {},
   "source": [
    "## Costraint-based algorithm: MIIC"
   ]
  },
  {
   "cell_type": "code",
   "execution_count": null,
   "metadata": {},
   "outputs": [],
   "source": [
    "sample_sizes = [1, 10, 100, 500, 1000, 1500, 2000, 2500, 3000, len(data)]"
   ]
  },
  {
   "cell_type": "code",
   "execution_count": null,
   "metadata": {},
   "outputs": [],
   "source": [
    "miic_structural_hamming_distances = []\n",
    "\n",
    "for size in sample_sizes:\n",
    "    sampled_data = data.sample(size)\n",
    "    \n",
    "    miic = gum.BNLearner(sampled_data, bn)\n",
    "    miic.useMIIC()\n",
    "    net = miic.learnBN()\n",
    "    \n",
    "    filename = f'./networks/miic_{size}.bif'\n",
    "    gum.saveBN(net, filename)\n",
    "    gimg.export(net, f\"./images/miic_{size}.png\")\n",
    "\n",
    "    difference = gum.lib.bn_vs_bn.GraphicalBNComparator(net, assignment_1)\n",
    "    hamming_distance = difference.hamming()\n",
    "    miic_structural_hamming_distances.append(hamming_distance[\"structural hamming\"])\n",
    "    print(hamming_distance)"
   ]
  },
  {
   "cell_type": "markdown",
   "metadata": {},
   "source": [
    "## Score-based: Greedy Hill climb"
   ]
  },
  {
   "cell_type": "code",
   "execution_count": null,
   "metadata": {},
   "outputs": [],
   "source": [
    "ghc_structural_hamming_distances = []\n",
    "\n",
    "for size in sample_sizes:\n",
    "    sampled_data = data.sample(size)\n",
    "    \n",
    "    ghc = gum.BNLearner(sampled_data, bn)\n",
    "    ghc.useGreedyHillClimbing()\n",
    "    net = ghc.learnBN()\n",
    "    \n",
    "    filename = f'./networks/ghc_{size}.bif'\n",
    "    gum.saveBN(net, filename)\n",
    "    gimg.export(net, f\"./images/ghc_{size}.png\")\n",
    "    \n",
    "    difference = gum.lib.bn_vs_bn.GraphicalBNComparator(net, assignment_1)\n",
    "    hamming_distance = difference.hamming()\n",
    "    ghc_structural_hamming_distances.append(hamming_distance[\"structural hamming\"])\n",
    "    print(hamming_distance)"
   ]
  },
  {
   "cell_type": "markdown",
   "metadata": {},
   "source": [
    "## Networks"
   ]
  },
  {
   "cell_type": "markdown",
   "metadata": {},
   "source": [
    "### MIIC"
   ]
  },
  {
   "cell_type": "code",
   "execution_count": null,
   "metadata": {},
   "outputs": [],
   "source": [
    "miic_nets = []\n",
    "for size in [10, 100, 1000, 2000, len(data)]:\n",
    "    net = gum.loadBN(f\"./networks/miic_{size}.bif\")\n",
    "    miic_nets.append(net)\n",
    "    \n",
    "gnb.flow.row(*miic_nets, captions=[f\"miic net for sample size: {x}\" for x in [10, 100, 1000, 2000, len(data)]])"
   ]
  },
  {
   "cell_type": "markdown",
   "metadata": {},
   "source": [
    "### GHC"
   ]
  },
  {
   "cell_type": "code",
   "execution_count": null,
   "metadata": {},
   "outputs": [],
   "source": [
    "miic_nets = []\n",
    "for size in [10, 100, 1000, 2000, len(data)]:\n",
    "    net = gum.loadBN(f\"./networks/ghc_{size}.bif\")\n",
    "    miic_nets.append(net)\n",
    "    \n",
    "gnb.flow.row(*miic_nets, captions=[f\"miic net for sample size: {x}\" for x in [10, 100, 1000, 2000, len(data)]])"
   ]
  },
  {
   "cell_type": "markdown",
   "metadata": {},
   "source": [
    "## Plots"
   ]
  },
  {
   "cell_type": "code",
   "execution_count": null,
   "metadata": {},
   "outputs": [],
   "source": [
    "fig, axs = plt.subplots(1, 2, figsize=(14, 12))\n",
    "\n",
    "axs[0].plot(sample_sizes, miic_structural_hamming_distances, marker='o', label=\"MIIC\")\n",
    "axs[0].set_xlabel('Sample Size')\n",
    "axs[0].set_ylabel('Structural Hamming Distance')\n",
    "axs[0].set_title('MIIC Structural Hamming Distance per Sample Size')\n",
    "axs[0].grid(True)\n",
    "axs[0].legend()\n",
    "\n",
    "axs[1].plot(sample_sizes, ghc_structural_hamming_distances, marker='o', label=\"GHC\")\n",
    "axs[1].set_xlabel('Sample Size')\n",
    "axs[1].set_ylabel('Structural Hamming Distance')\n",
    "axs[1].set_title('GHC Structural Hamming Distance per Sample Size')\n",
    "axs[1].grid(True)\n",
    "axs[1].legend()\n",
    "\n",
    "plt.tight_layout()\n",
    "plt.savefig('./images/constraint_hamming.png')\n",
    "plt.show()"
   ]
  }
 ],
 "metadata": {
  "kernelspec": {
   "display_name": "brl",
   "language": "python",
   "name": "python3"
  },
  "language_info": {
   "codemirror_mode": {
    "name": "ipython",
    "version": 3
   },
   "file_extension": ".py",
   "mimetype": "text/x-python",
   "name": "python",
   "nbconvert_exporter": "python",
   "pygments_lexer": "ipython3",
   "version": "3.12.3"
  }
 },
 "nbformat": 4,
 "nbformat_minor": 2
}
